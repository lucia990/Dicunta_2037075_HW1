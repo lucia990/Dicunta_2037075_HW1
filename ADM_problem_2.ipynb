{
  "nbformat": 4,
  "nbformat_minor": 0,
  "metadata": {
    "colab": {
      "provenance": [],
      "authorship_tag": "ABX9TyPHHePT0fFwt1d4opddpDqE",
      "include_colab_link": true
    },
    "kernelspec": {
      "name": "python3",
      "display_name": "Python 3"
    },
    "language_info": {
      "name": "python"
    }
  },
  "cells": [
    {
      "cell_type": "markdown",
      "metadata": {
        "id": "view-in-github",
        "colab_type": "text"
      },
      "source": [
        "<a href=\"https://colab.research.google.com/github/lucia990/Dicunta_2037075_HW1/blob/main/ADM_problem_2.ipynb\" target=\"_parent\"><img src=\"https://colab.research.google.com/assets/colab-badge.svg\" alt=\"Open In Colab\"/></a>"
      ]
    },
    {
      "cell_type": "markdown",
      "source": [
        "# PROBLEM 2"
      ],
      "metadata": {
        "id": "yYX7ozpSerhk"
      }
    },
    {
      "cell_type": "markdown",
      "source": [
        "1) Birthday Cake Candle"
      ],
      "metadata": {
        "id": "5CM7GQvIe3RF"
      }
    },
    {
      "cell_type": "code",
      "execution_count": null,
      "metadata": {
        "id": "sf-8P2tceZX7"
      },
      "outputs": [],
      "source": [
        "#!/bin/python3\n",
        "\n",
        "import math\n",
        "import os\n",
        "import random\n",
        "import re\n",
        "import sys\n",
        "\n",
        "#\n",
        "# Complete the 'birthdayCakeCandles' function below.\n",
        "#\n",
        "# The function is expected to return an INTEGER.\n",
        "# The function accepts INTEGER_ARRAY candles as parameter.\n",
        "#\n",
        "\n",
        "def birthdayCakeCandles(candles):\n",
        "    # Write your code here\n",
        "    Counter = {}\n",
        "    tallest = max(candles)\n",
        "    for candle in candles: \n",
        "        if candle not in Counter:\n",
        "            Counter[candle] = 0\n",
        "        Counter[candle] += 1\n",
        "    for item in Counter:\n",
        "        if tallest == item:\n",
        "            return Counter[item]\n",
        "if __name__ == '__main__':\n",
        "    fptr = open(os.environ['OUTPUT_PATH'], 'w')\n",
        "\n",
        "    candles_count = int(input().strip())\n",
        "\n",
        "    candles = list(map(int, input().rstrip().split()))\n",
        "\n",
        "    result = birthdayCakeCandles(candles)\n",
        "\n",
        "    fptr.write(str(result) + '\\n')\n",
        "\n",
        "    fptr.close()\n"
      ]
    },
    {
      "cell_type": "markdown",
      "source": [
        "2) Number Line Jumps"
      ],
      "metadata": {
        "id": "B1tPHiJrfISd"
      }
    },
    {
      "cell_type": "code",
      "source": [
        "#!/bin/python3\n",
        "\n",
        "import math\n",
        "import os\n",
        "import random\n",
        "import re\n",
        "import sys\n",
        "\n",
        "#\n",
        "# Complete the 'kangaroo' function below.\n",
        "#\n",
        "# The function is expected to return a STRING.\n",
        "# The function accepts following parameters:\n",
        "#  1. INTEGER x1\n",
        "#  2. INTEGER v1\n",
        "#  3. INTEGER x2\n",
        "#  4. INTEGER v2\n",
        "#\n",
        "\n",
        "def kangaroo(x1, v1, x2, v2):\n",
        "    # Write your code here\n",
        "    yes = 'YES'\n",
        "    no = 'NO'\n",
        "    \n",
        "    while (x1 < x2 and v1 >v2):\n",
        "        x1 = x1 + v1\n",
        "        x2 = x2 + v2\n",
        "        if x1 == x2:\n",
        "            return yes\n",
        "    return no\n",
        "   \n",
        "   \n",
        "\n",
        "if __name__ == '__main__':\n",
        "    fptr = open(os.environ['OUTPUT_PATH'], 'w')\n",
        "\n",
        "    first_multiple_input = input().rstrip().split()\n",
        "\n",
        "    x1 = int(first_multiple_input[0])\n",
        "\n",
        "    v1 = int(first_multiple_input[1])\n",
        "\n",
        "    x2 = int(first_multiple_input[2])\n",
        "\n",
        "    v2 = int(first_multiple_input[3])\n",
        "\n",
        "    result = kangaroo(x1, v1, x2, v2)\n",
        "\n",
        "    fptr.write(result + '\\n')\n",
        "\n",
        "    fptr.close()\n"
      ],
      "metadata": {
        "id": "7ptKkk4tfS59"
      },
      "execution_count": null,
      "outputs": []
    },
    {
      "cell_type": "markdown",
      "source": [
        "3) Viral Advertising"
      ],
      "metadata": {
        "id": "9k8si6NVfPe1"
      }
    },
    {
      "cell_type": "code",
      "source": [
        "#!/bin/python3\n",
        "\n",
        "import math\n",
        "import os\n",
        "import random\n",
        "import re\n",
        "import sys\n",
        "\n",
        "#\n",
        "# Complete the 'viralAdvertising' function below.\n",
        "#\n",
        "# The function is expected to return an INTEGER.\n",
        "# The function accepts INTEGER n as parameter.\n",
        "#\n",
        "\n",
        "def viralAdvertising(n):\n",
        "    # Write your code here\n",
        "    cumulative = 0\n",
        "    shared = 5\n",
        "    for i in range(1, n+1):\n",
        "        liked = math.floor(shared/2)\n",
        "        cumulative += liked\n",
        "        shared = 3* liked\n",
        "    \n",
        "    return cumulative\n",
        "if __name__ == '__main__':\n",
        "    fptr = open(os.environ['OUTPUT_PATH'], 'w')\n",
        "\n",
        "    n = int(input().strip())\n",
        "\n",
        "    result = viralAdvertising(n)\n",
        "\n",
        "    fptr.write(str(result) + '\\n')\n",
        "\n",
        "    fptr.close()\n"
      ],
      "metadata": {
        "id": "Qy58UvtFfaMi"
      },
      "execution_count": null,
      "outputs": []
    },
    {
      "cell_type": "markdown",
      "source": [
        "4) Recursive Digit Sum"
      ],
      "metadata": {
        "id": "H3ycsP_4fl_s"
      }
    },
    {
      "cell_type": "code",
      "source": [
        "#!/bin/python3\n",
        "import math\n",
        "import os\n",
        "import random\n",
        "import re\n",
        "import sys\n",
        "#\n",
        "# Complete the 'superDigit' function below.\n",
        "#\n",
        "# The function is expected to return an INTEGER.\n",
        "# The function accepts following parameters:\n",
        "#  1. STRING n\n",
        "#  2. INTEGER k\n",
        "#\n",
        "# SOLUTION #1 : Recursive algorithm \n",
        "\n",
        "#def superDigit(n, k):\n",
        " #   # Write your code here\n",
        " #   number = int(k*n)\n",
        " #   if number <= 10:\n",
        " #       return number\n",
        " #   else:\n",
        " #       new_number = sum([int(x) for x in str(number)])\n",
        " #       #new_number = sum(lista)\n",
        " #       return superDigit(new_number, 1)\n",
        "\n",
        " \n",
        " \n",
        " #SOLUTION #2 : Iterative algorithm\n",
        " \n",
        "def superDigit(n,k):\n",
        "    new_number = int(n*k)\n",
        "    \n",
        "    while(new_number >= 10):\n",
        "        lista = [int(x) for x in str(new_number)]\n",
        "        new_number = sum(lista)\n",
        "    return new_number\n",
        "\n",
        "if __name__ == '__main__':\n",
        "    fptr = open(os.environ['OUTPUT_PATH'], 'w')\n",
        "\n",
        "    first_multiple_input = input().rstrip().split()\n",
        "\n",
        "    n = first_multiple_input[0]\n",
        "\n",
        "    k = int(first_multiple_input[1])\n",
        "\n",
        "    result = superDigit(n, k)\n",
        "\n",
        "    fptr.write(str(result) + '\\n')\n",
        "\n",
        "    fptr.close()\n"
      ],
      "metadata": {
        "id": "6jrmb6hnfq1s"
      },
      "execution_count": null,
      "outputs": []
    },
    {
      "cell_type": "markdown",
      "source": [
        "5) Insertion Sort- Part 1"
      ],
      "metadata": {
        "id": "Vs-CwbcJf3ZK"
      }
    },
    {
      "cell_type": "markdown",
      "source": [
        "6) Insertion Sort- Part 2"
      ],
      "metadata": {
        "id": "SIPSCgcif9YN"
      }
    }
  ]
}