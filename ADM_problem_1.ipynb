{
  "nbformat": 4,
  "nbformat_minor": 0,
  "metadata": {
    "colab": {
      "provenance": [],
      "collapsed_sections": [],
      "toc_visible": true,
      "authorship_tag": "ABX9TyP0nxCK+vbKmlJIpK99ueUv",
      "include_colab_link": true
    },
    "kernelspec": {
      "name": "python3",
      "display_name": "Python 3"
    },
    "language_info": {
      "name": "python"
    }
  },
  "cells": [
    {
      "cell_type": "markdown",
      "metadata": {
        "id": "view-in-github",
        "colab_type": "text"
      },
      "source": [
        "<a href=\"https://colab.research.google.com/github/lucia990/Dicunta_2037075_HW1/blob/main/ADM_problem_1.ipynb\" target=\"_parent\"><img src=\"https://colab.research.google.com/assets/colab-badge.svg\" alt=\"Open In Colab\"/></a>"
      ]
    },
    {
      "cell_type": "markdown",
      "source": [
        "# 1) Introduction"
      ],
      "metadata": {
        "id": "OhRJM9Yaeth-"
      }
    },
    {
      "cell_type": "markdown",
      "source": [
        "1.0. Say 'Hello, world!'"
      ],
      "metadata": {
        "id": "86ZJOLMMe8Gp"
      }
    },
    {
      "cell_type": "code",
      "source": [
        "if __name__ == '__main__':\n",
        "    print(\"Hello, World!\")"
      ],
      "metadata": {
        "id": "56OxOFJ6fDNd"
      },
      "execution_count": null,
      "outputs": []
    },
    {
      "cell_type": "markdown",
      "source": [
        "1.1. Python If-Else"
      ],
      "metadata": {
        "id": "F4CjDTdAfF2e"
      }
    },
    {
      "cell_type": "code",
      "source": [
        "#!/bin/python3\n",
        "\n",
        "import math\n",
        "import os\n",
        "import random\n",
        "import re\n",
        "import sys\n",
        "\n",
        "\n",
        "\n",
        "if __name__ == '__main__':\n",
        "    n = int(input().strip())\n",
        "    if n % 2 != 0:\n",
        "        print(\"Weird\")\n",
        "    else:\n",
        "        if n >= 2 and n <= 5:\n",
        "            print(\"Not Weird\")\n",
        "        elif n >= 6 and n <= 20:\n",
        "            print(\"Weird\")\n",
        "        elif n > 20:\n",
        "            print(\"Not Weird\")\n"
      ],
      "metadata": {
        "id": "DbpGO_ZTfFYg"
      },
      "execution_count": null,
      "outputs": []
    },
    {
      "cell_type": "markdown",
      "source": [
        "1.2. Arithmetic Operators"
      ],
      "metadata": {
        "id": "fbnCy1qtfc1P"
      }
    },
    {
      "cell_type": "code",
      "source": [
        "if __name__ == '__main__':\n",
        "    a = int(input())\n",
        "    b = int(input())\n",
        "    \n",
        "    print(a+b)\n",
        "    print(a-b)\n",
        "    print(a*b)\n",
        "    \n"
      ],
      "metadata": {
        "id": "Oftm7edWfjAJ"
      },
      "execution_count": null,
      "outputs": []
    },
    {
      "cell_type": "markdown",
      "source": [
        "1.3. Python: Division"
      ],
      "metadata": {
        "id": "F2FbewidfnNP"
      }
    },
    {
      "cell_type": "code",
      "source": [
        "if __name__ == '__main__':\n",
        "    a = int(input())\n",
        "    b = int(input())\n",
        "    \n",
        "    print(a//b)\n",
        "    print(a/b)\n"
      ],
      "metadata": {
        "id": "GrfuznboftCD"
      },
      "execution_count": null,
      "outputs": []
    },
    {
      "cell_type": "markdown",
      "source": [
        "1.4. Loops"
      ],
      "metadata": {
        "id": "_lIwD-XRfzE9"
      }
    },
    {
      "cell_type": "code",
      "source": [
        "if __name__ == '__main__':\n",
        "    a = int(input())\n",
        "    b = int(input())\n",
        "    \n",
        "    print(a//b)\n",
        "    print(a/b)\n"
      ],
      "metadata": {
        "id": "Hq7BrM-mf8lj"
      },
      "execution_count": null,
      "outputs": []
    },
    {
      "cell_type": "markdown",
      "source": [
        "1.5. Write a function"
      ],
      "metadata": {
        "id": "z5eDqdUKf_YR"
      }
    },
    {
      "cell_type": "code",
      "source": [
        "if __name__ == '__main__':\n",
        "    a = int(input())\n",
        "    b = int(input())\n",
        "    \n",
        "    print(a//b)\n",
        "    print(a/b)\n"
      ],
      "metadata": {
        "id": "yJn0wO4Af-wq"
      },
      "execution_count": null,
      "outputs": []
    },
    {
      "cell_type": "markdown",
      "source": [
        "1.6. Print Function"
      ],
      "metadata": {
        "id": "1QXI4wfZg_sy"
      }
    },
    {
      "cell_type": "code",
      "source": [
        "if __name__ == '__main__':\n",
        "    a = int(input())\n",
        "    b = int(input())\n",
        "    \n",
        "    print(a//b)\n",
        "    print(a/b)\n"
      ],
      "metadata": {
        "id": "dq-dBLVthscF"
      },
      "execution_count": null,
      "outputs": []
    },
    {
      "cell_type": "markdown",
      "source": [
        "# 2) Data Types"
      ],
      "metadata": {
        "id": "1x1HKXzAjHBf"
      }
    },
    {
      "cell_type": "markdown",
      "source": [
        "2.1. Lists"
      ],
      "metadata": {
        "id": "iErAHdH9jae8"
      }
    },
    {
      "cell_type": "code",
      "source": [
        "if __name__ == '__main__':\n",
        "    N = int(input())\n",
        "    lista = []\n",
        "    for i in range(N):\n",
        "       \n",
        "        command = input().split()\n",
        "       \n",
        "        \n",
        "        if len(command)== 1:\n",
        "            if command[0] == 'print':\n",
        "                print(lista)\n",
        "            elif command[0] == 'sort':\n",
        "                lista.sort()\n",
        "            elif command[0] == 'pop':\n",
        "                lista.pop()\n",
        "            elif command[0] == 'reverse':\n",
        "                lista.reverse()\n",
        "        elif len(command) == 2:\n",
        "            par = int(command[1])\n",
        "            if command[0] == 'append':\n",
        "                lista.append(par)\n",
        "            elif command[0] == 'remove':\n",
        "                if int(command[1]) in lista:\n",
        "                    \n",
        "                    lista.remove(par)\n",
        "        else:\n",
        "            par1 = int(command[1])\n",
        "            par2 = int(command[2]) \n",
        "            lista.insert(par1, par2)       \n",
        "        \n"
      ],
      "metadata": {
        "id": "_B-WlVzmj1cy"
      },
      "execution_count": null,
      "outputs": []
    },
    {
      "cell_type": "markdown",
      "source": [
        "2.2. List Comprehension"
      ],
      "metadata": {
        "id": "6yqQbg2Ijfzb"
      }
    },
    {
      "cell_type": "code",
      "source": [
        "if __name__ == '__main__':\n",
        "    x = int(input())\n",
        "    y = int(input())\n",
        "    z = int(input())\n",
        "    n = int(input())\n",
        "lista = []  \n",
        "\n",
        "l=[[i,j,k]  for i in range(x+1) for j in range(y+1)   for k in range(z+1) if i+j+k != n]\n",
        "                 \n",
        "        \n",
        "print(l)   \n"
      ],
      "metadata": {
        "id": "PavYkhbos5ob"
      },
      "execution_count": null,
      "outputs": []
    },
    {
      "cell_type": "markdown",
      "source": [
        "2.3 Find the Runner- Up Score"
      ],
      "metadata": {
        "id": "C4gvOIP-jkmG"
      }
    },
    {
      "cell_type": "code",
      "source": [
        "if __name__ == '__main__':\n",
        "    n = int(input())\n",
        "    arr = map(int, input().split())\n",
        "    \n",
        "    l = list(arr)\n",
        "    \n",
        "    l.sort()\n",
        "   \n",
        "    runner_uplist = [l[i] for i in range(len(l)) if l[i] < max(l) ]\n",
        "    \n",
        "    print(runner_uplist[-1])\n"
      ],
      "metadata": {
        "id": "jmRsOyqItEnS"
      },
      "execution_count": null,
      "outputs": []
    },
    {
      "cell_type": "markdown",
      "source": [
        "2.4. Nested lists"
      ],
      "metadata": {
        "id": "zQEWTrYLjrhu"
      }
    },
    {
      "cell_type": "code",
      "source": [
        "if __name__ == '__main__':\n",
        "    l = []\n",
        "    for _ in range(int(input())):\n",
        "        name = input()\n",
        "        score = float(input())\n",
        "        ltemp = [name,score]\n",
        "        l.append(ltemp)\n",
        "    l.sort(reverse = True , key = lambda x: x[1])\n",
        "\n",
        "    def find_min(lista):\n",
        "        MIN = 200\n",
        "        for list in lista:\n",
        "            if list[1] < MIN:\n",
        "                 MIN = list[1]\n",
        "        return MIN\n",
        "    \n",
        "    for list in l:\n",
        "        \n",
        "        list_min = [list for list in l if list[1] > find_min(l) ]\n",
        "    \n",
        "    for list in list_min:\n",
        "        students = [list[0] for list in list_min if list[1] == find_min(list_min)]\n",
        "    students.sort()\n",
        "    for i in students:\n",
        "       print (i)\n"
      ],
      "metadata": {
        "id": "sTKj10tItJsr"
      },
      "execution_count": null,
      "outputs": []
    },
    {
      "cell_type": "markdown",
      "source": [
        "2.5 Finding the percentage"
      ],
      "metadata": {
        "id": "ox9J63Ejjv7w"
      }
    },
    {
      "cell_type": "code",
      "source": [
        "if __name__ == '__main__':\n",
        "    n = int(input())\n",
        "    student_marks = {}\n",
        "    for _ in range(n):\n",
        "        name, *line = input().split()\n",
        "        scores = list(map(float, line))\n",
        "        student_marks[name] = scores\n",
        "    query_name = input()\n",
        "    \n",
        "\n",
        "    \n",
        "    for i in range(len(student_marks)):\n",
        "        if list(student_marks)[i] == query_name:\n",
        "            lscores = list(student_marks.values())[i] \n",
        "            somma = 0\n",
        "            for i in range(len(lscores)):\n",
        "                somma = somma + lscores[i]\n",
        "            print(\"{:.2f}\".format(somma/len(lscores)))\n",
        "            \n"
      ],
      "metadata": {
        "id": "aeBcImogtTC4"
      },
      "execution_count": null,
      "outputs": []
    },
    {
      "cell_type": "markdown",
      "source": [
        "# 3) Strings"
      ],
      "metadata": {
        "id": "v-NZfHPwtVIN"
      }
    },
    {
      "cell_type": "markdown",
      "source": [
        "3.1. sWAP CASE "
      ],
      "metadata": {
        "id": "gTcOdIyctomC"
      }
    },
    {
      "cell_type": "code",
      "source": [
        "def swap_case(s):\n",
        "    s1 = []\n",
        "    swapped = []\n",
        "    for i in range(len(s)):\n",
        "        o = ord(s[i])\n",
        "        if o in range(97,123):\n",
        "            o = o - 32\n",
        "        elif o in range (65,91):\n",
        "            o = o + 32\n",
        "        s1.append(o) \n",
        "    for i in range(len(s1)):\n",
        "        c = chr(s1[i])\n",
        "        swapped.append(c)   \n",
        "    sstring= \"\"\n",
        "    for i in range(len(swapped)):\n",
        "        sstring = sstring + swapped[i]\n",
        "        \n",
        "    return sstring\n",
        "\n"
      ],
      "metadata": {
        "id": "SrmMs1wDusxm"
      },
      "execution_count": null,
      "outputs": []
    },
    {
      "cell_type": "markdown",
      "source": [
        "3.2. String Split and Join"
      ],
      "metadata": {
        "id": "b0jcyWEZtoYl"
      }
    },
    {
      "cell_type": "code",
      "source": [
        "\n",
        "\n",
        "def split_and_join(line):\n",
        "    # write your code here\n",
        "   \n",
        "    line =line.split(\" \")\n",
        "    line = \"-\".join(line)\n",
        "    return line\n",
        "    \n",
        "    \n",
        "if __name__ == '__main__':\n",
        "    line = input()\n",
        "    result = split_and_join(line)\n",
        "    print(result)\n"
      ],
      "metadata": {
        "id": "vCzWFXARu3_A"
      },
      "execution_count": null,
      "outputs": []
    },
    {
      "cell_type": "markdown",
      "source": [
        "3.3. What's your name?"
      ],
      "metadata": {
        "id": "nV9g4cgntoKs"
      }
    },
    {
      "cell_type": "code",
      "source": [
        "#\n",
        "# Complete the 'print_full_name' function below.\n",
        "#\n",
        "# The function is expected to return a STRING.\n",
        "# The function accepts following parameters:\n",
        "#  1. STRING first\n",
        "#  2. STRING last\n",
        "#\n",
        "\n",
        "def print_full_name(first, last):\n",
        "    # Write your code here\n",
        "    print(\"Hello\", first, last + \"!\", \"You just delved into python.\")\n",
        "\n"
      ],
      "metadata": {
        "id": "z82bDKEsu94c"
      },
      "execution_count": null,
      "outputs": []
    },
    {
      "cell_type": "markdown",
      "source": [
        "3.4. Mutations"
      ],
      "metadata": {
        "id": "ikN6lLmGtn-Q"
      }
    },
    {
      "cell_type": "code",
      "source": [
        "def mutate_string(string, position, character):\n",
        "    l = list(string)\n",
        "    l[position] = character\n",
        "    string = ''.join(l)    \n",
        "    \n",
        "    return string\n",
        "\n"
      ],
      "metadata": {
        "id": "RyfbkV3GvMxw"
      },
      "execution_count": null,
      "outputs": []
    },
    {
      "cell_type": "markdown",
      "source": [
        "3.5. Find a string "
      ],
      "metadata": {
        "id": "yJo13_t-tnw1"
      }
    },
    {
      "cell_type": "code",
      "source": [
        "def count_substring(string, sub_string):\n",
        "    count = 0\n",
        "    for j in range(0,len(string)):\n",
        "        \n",
        "        if string[j: j + len(sub_string)]== sub_string:\n",
        "            count += 1\n",
        "        else:\n",
        "            continue\n",
        "    \n",
        "    return count\n",
        "\n"
      ],
      "metadata": {
        "id": "O0EjcAbyvSuX"
      },
      "execution_count": null,
      "outputs": []
    },
    {
      "cell_type": "markdown",
      "source": [
        "3.6. String Validators"
      ],
      "metadata": {
        "id": "kN5zQZTfucTl"
      }
    },
    {
      "cell_type": "code",
      "source": [
        "if __name__ == '__main__':\n",
        "    s = input()\n",
        "    for i in range(0, len(s)):\n",
        "        if  s[i].isalnum() == True: \n",
        "            print (\"True\")\n",
        "            break\n",
        "        else: \n",
        "            if i == len(s)-1:\n",
        "                print(\"False\")\n",
        "       \n",
        "    for i in range(0, len(s)):\n",
        "        if  s[i].isalpha() == True: \n",
        "            print (\"True\")\n",
        "            break\n",
        "        else: \n",
        "            if i == len(s)-1:\n",
        "                print(\"False\")\n",
        "       \n",
        "        \n",
        "    for i in range(0, len(s)):\n",
        "        if  s[i].isdigit() == True: \n",
        "            print (\"True\")\n",
        "            break\n",
        "        else: \n",
        "            if i == len(s)-1:\n",
        "                print(\"False\")\n",
        "          \n",
        "            \n",
        "    for i in range(0, len(s)):\n",
        "        if  s[i].islower() == True: \n",
        "            print (\"True\")\n",
        "            break\n",
        "        else: \n",
        "            if i == len(s)-1:\n",
        "                print(\"False\")\n",
        "       \n",
        "        \n",
        "    for i in range(0, len(s)):\n",
        "        if  s[i].isupper() == True: \n",
        "            print (\"True\")\n",
        "            break\n",
        "        else: \n",
        "            if i == len(s)-1:\n",
        "                print(\"False\")\n",
        "       \n",
        "        \n",
        "    \n"
      ],
      "metadata": {
        "id": "qkEOVG39vo9L"
      },
      "execution_count": null,
      "outputs": []
    },
    {
      "cell_type": "markdown",
      "source": [
        "3.7. Text Wrap"
      ],
      "metadata": {
        "id": "r5nNnn3Juh8X"
      }
    },
    {
      "cell_type": "code",
      "source": [
        "\n",
        "\n",
        "def wrap(string, max_width):\n",
        "    s = textwrap.wrap(string,max_width)\n",
        "    for i in range(len(s)):\n",
        "        print(s[i])\n",
        "    return ' '\n",
        "\n"
      ],
      "metadata": {
        "id": "I0ivTj3lvv7q"
      },
      "execution_count": null,
      "outputs": []
    },
    {
      "cell_type": "markdown",
      "source": [
        "3.8. Designer Door Mat"
      ],
      "metadata": {
        "id": "5q4ClFHculEI"
      }
    },
    {
      "cell_type": "code",
      "source": [
        "# Enter your code here. Read input from STDIN. Print output to STDOUT\n",
        "line = input()\n",
        "l = line.split()\n",
        "m = l[1]\n",
        "n = l[0]\n",
        "\n",
        "N = int(n)\n",
        "M = int(m)\n",
        "\n",
        "   #function for dash lines\n",
        "def dash(width):\n",
        "    s1 = \"-\"\n",
        "    for i in range(0,width -1):\n",
        "        s1 = s1 + \"-\"\n",
        "    return s1\n",
        "\n",
        "    #function for .|.\n",
        "def point_line(num):\n",
        "    s = '.|.'\n",
        "    for i in range(0,num-1):\n",
        "        s = s + \".|.\"\n",
        "    return s\n",
        "    \n",
        "    #function for the center\n",
        "def welcome():\n",
        "    w = \"WELCOME\"\n",
        "    w = w.center(N*3, '-')\n",
        "    return w\n",
        "\n",
        "    #function for joining symbols\n",
        "def join(n,m,idx):\n",
        "    s = \"\"\n",
        "    s = dash(((m-3)//2)-3*idx)+ point_line(2*idx +1) + dash((m-3)//2-3*idx)\n",
        "    return s\n",
        "\n",
        "\n",
        "\n",
        "# door mat\n",
        "for i in range(0, (N-1)//2):\n",
        "    print(join(N,M,i))\n",
        "\n",
        "print(welcome())\n",
        "\n",
        "a = range(0, (N-1)//2)\n",
        "b = a[::-1]\n",
        "\n",
        "for i in b:\n",
        "    print(join(N,M,i))\n",
        "    \n",
        "    \n"
      ],
      "metadata": {
        "id": "-KsTVfMetnD4"
      },
      "execution_count": null,
      "outputs": []
    },
    {
      "cell_type": "markdown",
      "source": [
        "# 4) Sets"
      ],
      "metadata": {
        "id": "tRmBgUOkv5xW"
      }
    },
    {
      "cell_type": "markdown",
      "source": [
        "4.1 Introduction to sets"
      ],
      "metadata": {
        "id": "blQ-oPi-wAXb"
      }
    },
    {
      "cell_type": "code",
      "source": [
        "def average(array):\n",
        "    # your code goes here\n",
        "    sett = set(array)\n",
        "    l = list(sett)\n",
        "    summ = 0\n",
        "    \n",
        "    for i in range(len(l)):\n",
        "        summ += l[i]\n",
        "    average = summ/len(l)\n",
        "    return average     \n"
      ],
      "metadata": {
        "id": "CX-JjMWUSRvx"
      },
      "execution_count": null,
      "outputs": []
    },
    {
      "cell_type": "markdown",
      "source": [
        "4.2. No Idea!"
      ],
      "metadata": {
        "id": "KMMzIWYCwMmK"
      }
    },
    {
      "cell_type": "code",
      "source": [
        "# Enter your code here. Read input from STDIN. Print output to STDOUT\n",
        "\n",
        "parameters = input()\n",
        "raw = input()\n",
        "array  = raw.split()\n",
        "array  = list(map(int, array))\n",
        "\n",
        "\n",
        "A = input()\n",
        "Alis= A.split()\n",
        "Alis= list(map(int, Alis))\n",
        "B = input()\n",
        "Blis = B.split()\n",
        "Blis = list(map(int, Blis))\n",
        "Aset = set(Alis)\n",
        "Bset = set(Blis)\n",
        "\n",
        "happiness = []\n",
        "for i in range(len(array)):\n",
        "    if array[i] in Aset:\n",
        "        happiness.append(1)\n",
        "    elif array[i] in Bset: \n",
        "        happiness.append(-1)\n",
        "    else: \n",
        "        happiness.append(0)    \n",
        "\n",
        "print(sum(happiness))\n",
        "    \n"
      ],
      "metadata": {
        "id": "EEvlijjzSdAe"
      },
      "execution_count": null,
      "outputs": []
    },
    {
      "cell_type": "markdown",
      "source": [
        "4.3. Symmetric difference"
      ],
      "metadata": {
        "id": "9AB-kXdmwA9b"
      }
    },
    {
      "cell_type": "code",
      "source": [
        "# Enter your code here. Read input from STDIN. Print output to STDOUT\n",
        "m = int(input())\n",
        "rawm = input()\n",
        "mlis = rawm.split()\n",
        "mlis = list(map(int, mlis))\n",
        "\n",
        "\n",
        "mset = set(mlis)  \n",
        "\n",
        "\n",
        "n = int(input())\n",
        "rawn = input()\n",
        "nlis = rawn.split()\n",
        "nlis = list(map(int, nlis))\n",
        "\n",
        "nset = set(nlis)\n",
        "\n",
        "ndiff = nset.difference(mset)\n",
        "\n",
        "mdiff = mset.difference(nset)\n",
        "sim_diff = ndiff.union(mdiff)\n",
        "difference_l = list(sim_diff)\n",
        "\n",
        "difference_l.sort()\n",
        "for i in range(0,len(difference_l)):\n",
        "    print(difference_l[i])\n",
        "\n",
        "\n"
      ],
      "metadata": {
        "id": "ykq8o4XvSrvK"
      },
      "execution_count": null,
      "outputs": []
    },
    {
      "cell_type": "markdown",
      "source": [
        "4.4. Set.add()"
      ],
      "metadata": {
        "id": "GcOWnNOKwVAK"
      }
    },
    {
      "cell_type": "code",
      "source": [
        "# Enter your code here. Read input from STDIN. Print output to STDOUT\n",
        "N = int(input())\n",
        "set_countries = set()\n",
        "for i in range(N):\n",
        "    lines = input()\n",
        "    set_countries.add(lines)\n",
        "\n",
        "print(len(set_countries))\n",
        "\n"
      ],
      "metadata": {
        "id": "WhTiVIxdS2kx"
      },
      "execution_count": null,
      "outputs": []
    },
    {
      "cell_type": "markdown",
      "source": [
        "4.5. Set.union() Operation"
      ],
      "metadata": {
        "id": "IKytesjLwZFs"
      }
    },
    {
      "cell_type": "code",
      "source": [
        "# Enter your code here. Read input from STDIN. Print output to STDOUT\n",
        "n_en = int(input())\n",
        "raw_en = input()\n",
        "l_en = raw_en.split()\n",
        "b = int(input())\n",
        "raw_fr = input()\n",
        "l_fr = raw_fr.split()\n",
        "l_en = list(map(int, l_en))\n",
        "l_fr = list(map(int, l_fr))\n",
        "\n",
        "set_fr = set(l_fr)\n",
        "set_en = set(l_en)\n",
        "\n",
        "union_set = set_fr.union(set_en)\n",
        "\n",
        "print(len(union_set))\n"
      ],
      "metadata": {
        "id": "5x_5tTpNTESh"
      },
      "execution_count": null,
      "outputs": []
    },
    {
      "cell_type": "markdown",
      "source": [
        "4.6. Set.intersection() Operation "
      ],
      "metadata": {
        "id": "CXrifgh_weHm"
      }
    },
    {
      "cell_type": "code",
      "source": [
        "# Enter your code here. Read input from STDIN. Print output to STDOUT\n",
        "en = int(input())\n",
        "raw_en = input()\n",
        "l_en = raw_en.split()\n",
        "fr = int(input())\n",
        "raw_fr = input()\n",
        "l_fr = raw_fr.split()\n",
        "l_en= list(map(int, l_en))\n",
        "l_fr = list(map(int, l_fr))\n",
        "set_en = set(l_en)\n",
        "set_fr = set(l_fr)\n",
        "\n",
        "intersection_set = set_en.intersection(set_fr)\n",
        "\n",
        "print(len(intersection_set))\n"
      ],
      "metadata": {
        "id": "qzeeIzNQSQvn"
      },
      "execution_count": null,
      "outputs": []
    },
    {
      "cell_type": "markdown",
      "source": [
        "4.7. Set.difference() Operation "
      ],
      "metadata": {
        "id": "lzNc7ogawkcw"
      }
    },
    {
      "cell_type": "code",
      "source": [
        "# Enter your code here. Read input from STDIN. Print output to STDOUT\n",
        "en = int(input())\n",
        "raw_en = input()\n",
        "l_en = raw_en.split()\n",
        "l_en = list(map(int, l_en))\n",
        "fr = int(input())\n",
        "raw_fr = input()\n",
        "l_fr = raw_fr.split()\n",
        "l_fr = list(map(int, l_fr))\n",
        "\n",
        "set_en = set(l_en)\n",
        "set_fr = set(l_fr)\n",
        "\n",
        "difference_set = set_en.difference(set_fr)\n",
        "print(len(difference_set))\n"
      ],
      "metadata": {
        "id": "7CPUnSZNTQ03"
      },
      "execution_count": null,
      "outputs": []
    },
    {
      "cell_type": "markdown",
      "source": [
        "4.8. Set.symmetric_difference() Operation"
      ],
      "metadata": {
        "id": "lqyJ1isrwwe0"
      }
    },
    {
      "cell_type": "code",
      "source": [
        "# Enter your code here. Read input from STDIN. Print output to STDOUT\n",
        "en = int(input())\n",
        "raw_en = input()\n",
        "l_en = raw_en.split()\n",
        "l_en = list(map(int, l_en))\n",
        "set_en = set(l_en)\n",
        "\n",
        "fr = int(input())\n",
        "raw_fr = input()\n",
        "l_fr = raw_fr.split()\n",
        "l_fr = list(map(int, l_fr))\n",
        "set_fr = set(l_fr)\n",
        "\n",
        "sym_diff = set_en.symmetric_difference(set_fr)\n",
        "print(len(sym_diff))\n"
      ],
      "metadata": {
        "id": "Dd_Q10kmTVs7"
      },
      "execution_count": null,
      "outputs": []
    },
    {
      "cell_type": "markdown",
      "source": [
        "4.9. Set Mutations"
      ],
      "metadata": {
        "id": "mQTR9RgxT3nk"
      }
    },
    {
      "cell_type": "code",
      "source": [
        "# Enter your code here. Read input from STDIN. Print output to STDOUT\n",
        "n = int(input())                                    #first line \n",
        "a_raw = input()                                     #second line\n",
        "a_list = a_raw.split()\n",
        "a_list = list(map(int, a_list))\n",
        "set_a = set(a_list)\n",
        "n_sets = int(input())                               #third line\n",
        "for i in range(0, n_sets):                        \n",
        "    line_one = input()                              #fourth line\n",
        "                                \n",
        "    operations_lengths = line_one.split()\n",
        "    \n",
        "    line2 = input()                                 #fifth line\n",
        "    other_sets = line2.split()\n",
        "    \n",
        "    other_sets= list(map(int, other_sets))\n",
        "    \n",
        "    other_set = set(other_sets)\n",
        "    if operations_lengths[0] == 'intersection_update':\n",
        "        set_a.intersection_update(other_set)\n",
        "    elif operations_lengths[0] == 'update':\n",
        "        set_a.update(other_set)\n",
        "    elif operations_lengths[0] == 'symmetric_difference_update':\n",
        "        set_a.symmetric_difference_update(other_set)\n",
        "    elif operations_lengths[0] == 'difference_update':\n",
        "        set_a.difference_update(other_set)\n",
        "    else:\n",
        "        print(\"Unknown command!\")\n",
        "\n",
        "print(sum(set_a))\n",
        "        "
      ],
      "metadata": {
        "id": "SbDtUdBFT67K"
      },
      "execution_count": null,
      "outputs": []
    },
    {
      "cell_type": "markdown",
      "source": [
        "# 5) Collections"
      ],
      "metadata": {
        "id": "TO7TqrALUEWq"
      }
    },
    {
      "cell_type": "markdown",
      "source": [
        "5.1. collections.Counter()"
      ],
      "metadata": {
        "id": "RI9ve2TgUOBj"
      }
    },
    {
      "cell_type": "code",
      "source": [
        "# Enter your code here. Read input from STDIN. Print output to STDOUT\n",
        "from collections import Counter\n",
        "\n",
        "n_shoes = int(input())                      #first line\n",
        "raw_shoes = input()                         #second line\n",
        "l_shoes = raw_shoes.split()\n",
        "l_shoes = list(map(int, l_shoes))\n",
        "n_customers = int(input())                  #third line\n",
        "l_money = []\n",
        "availability = Counter(l_shoes)\n",
        "available_shoes = list(Counter(l_shoes).keys())\n",
        "n_available_shoes = list(Counter(l_shoes).values())\n",
        "#print(availability)\n",
        "#print(list(available_shoes))\n",
        "#print(list(n_available_shoes))\n",
        "for i in range(n_customers):\n",
        "    customer = input()                      #customer input\n",
        "    l_customer = customer.split()\n",
        "    \n",
        "    l_customer = list(map(int, l_customer))\n",
        "    #print(l_shoes)\n",
        "    #print(l_customer)\n",
        "    \n",
        "    if l_customer[0] in available_shoes:\n",
        "        idx = available_shoes.index(l_customer[0])\n",
        "        if n_available_shoes[idx] != 0:\n",
        "            n_available_shoes[idx] = n_available_shoes[idx] - 1\n",
        "            l_money.append(l_customer[1])\n",
        "       \n",
        "print(sum(l_money))\n",
        "  "
      ],
      "metadata": {
        "id": "_czBDyOtVTAq"
      },
      "execution_count": null,
      "outputs": []
    },
    {
      "cell_type": "markdown",
      "source": [
        "5.2. DefaultDict Tutorial"
      ],
      "metadata": {
        "id": "L3ti2D4xUoqP"
      }
    },
    {
      "cell_type": "code",
      "source": [
        "# Enter your code here. Read input from STDIN. Print output to STDOUT\n",
        "\n",
        "#For this exercise I found the solution since I was not able to complete it \n",
        "\n",
        "from collections import defaultdict\n",
        "\n",
        "d = defaultdict(list)\n",
        "list1=[]\n",
        "n, m = map(int,input().split())\n",
        "for i in range(1, n+1):\n",
        "    d[input()].append(str(i))  #note that the integer index is converted into a string\n",
        "\n",
        "for i in range(m):\n",
        "    b = input()\n",
        "    if b in d: print(' '.join(d[b]))\n",
        "    else: print(-1)\n"
      ],
      "metadata": {
        "id": "GyGX5auSVj7j"
      },
      "execution_count": null,
      "outputs": []
    },
    {
      "cell_type": "markdown",
      "source": [
        "5.3. collections.namedtuple()"
      ],
      "metadata": {
        "id": "FPDdpw74Uw6d"
      }
    },
    {
      "cell_type": "code",
      "source": [
        "# Enter your code here. Read input from STDIN. Print output to STDOUT\n",
        "\n",
        "from collections import namedtuple\n",
        "\n",
        "\n",
        "N = int(input())\n",
        "\n",
        "\n",
        "summa = 0\n",
        "l_tuples_name = input()\n",
        "\n",
        "student =  namedtuple('student', l_tuples_name)\n",
        "\n",
        "\n",
        "for i in range(N):\n",
        "    l_tuples = input().split()\n",
        "    \n",
        "    line = student(l_tuples[0],l_tuples[1],l_tuples[2],l_tuples[3])\n",
        "    \n",
        "\n",
        "    summa = summa + int(line.MARKS)\n",
        "    \n",
        "print(\"{:.2f}\".format(summa/N))        \n",
        "    \n",
        "      \n"
      ],
      "metadata": {
        "id": "PhBcrEd5VzUR"
      },
      "execution_count": null,
      "outputs": []
    },
    {
      "cell_type": "markdown",
      "source": [
        "5.4. collections.OrderedDict()"
      ],
      "metadata": {
        "id": "2G_kq2COU5oU"
      }
    },
    {
      "cell_type": "code",
      "source": [
        "# Enter your code here. Read input from STDIN. Print output to STDOUT\n",
        "from collections import OrderedDict\n",
        "ord_dict = OrderedDict()\n",
        "N = int(input())\n",
        "for i in range(N):\n",
        "    items = input().split()\n",
        "    prices = int(items[-1])\n",
        "    \n",
        "    \n",
        "    items.pop()\n",
        "    \n",
        "    items = ' '.join(items)\n",
        "    #print(items)\n",
        "    #print(prices, type(prices))\n",
        "    if items in ord_dict.keys():\n",
        "        ord_dict[items] += prices\n",
        "    else:\n",
        "        ord_dict[items] =  prices\n",
        "\n",
        "l_keys = list(ord_dict.keys())\n",
        "l_values = list(ord_dict.values())\n",
        "for i in range(len(ord_dict)):\n",
        "    print(l_keys[i], l_values[i])\n",
        "    \n"
      ],
      "metadata": {
        "id": "GzxbKjdnV5N-"
      },
      "execution_count": null,
      "outputs": []
    },
    {
      "cell_type": "markdown",
      "source": [
        "5.5. Word Order"
      ],
      "metadata": {
        "id": "Dar6-0jsVEmh"
      }
    },
    {
      "cell_type": "code",
      "source": [
        "# Enter your code here. Read input from STDIN. Print output to STDOUT\n",
        "from collections import OrderedDict\n",
        "ord_dict = OrderedDict()\n",
        "n = int(input())\n",
        "n_distinct = 0\n",
        "for i in range(n):\n",
        "    word = input()\n",
        "    if word in ord_dict.keys():\n",
        "        \n",
        "        n_distinct =+ 1\n",
        "        ord_dict[word] = ord_dict[word] + 1\n",
        "    else:\n",
        "        \n",
        "        ord_dict[word] = 1\n",
        "values = list(ord_dict.values())\n",
        "\n",
        "\n",
        "print(len(values))\n",
        "values = ' '.join(str(value) for value in values)\n",
        "\n",
        "print(values)\n"
      ],
      "metadata": {
        "id": "dVwi305eV_Fg"
      },
      "execution_count": null,
      "outputs": []
    },
    {
      "cell_type": "markdown",
      "source": [
        "5.6. collections.deque()"
      ],
      "metadata": {
        "id": "-7u4E3QbVKwH"
      }
    },
    {
      "cell_type": "code",
      "source": [
        "# Enter your code here. Read input from STDIN. Print output to STDOUT\n",
        "from collections import deque\n",
        "\n",
        "N = int(input())\n",
        "d = deque()\n",
        "for i in range(N):\n",
        "    command = input().split()\n",
        "    if len(command) == 2:\n",
        "        par = command[1]\n",
        "        if command[0] == 'append':\n",
        "            d.append(par)\n",
        "        elif command[0] == 'appendleft':\n",
        "            d.appendleft(par)\n",
        "    else:\n",
        "        if command[0] == 'pop':\n",
        "            d.pop()\n",
        "        if command[0] == 'popleft':\n",
        "            d.popleft()\n",
        "    \n",
        "d = ' '.join(d)\n",
        "print(d)\n",
        "        \n"
      ],
      "metadata": {
        "id": "sIEmI4zUWEBn"
      },
      "execution_count": null,
      "outputs": []
    },
    {
      "cell_type": "markdown",
      "source": [
        "# 6) Date & Time"
      ],
      "metadata": {
        "id": "ynRpRLUrWHu8"
      }
    },
    {
      "cell_type": "markdown",
      "source": [
        "6.1. Calendar Module"
      ],
      "metadata": {
        "id": "fAnw4NBhWMqB"
      }
    },
    {
      "cell_type": "code",
      "source": [
        "# Enter your code here. Read input from STDIN. Print output to STDOUT\n",
        "\n",
        "import calendar\n",
        "date = input().split()\n",
        "#print(date, type(date))\n",
        "\n",
        "calendar.TextCalendar(firstweekday = 6).formatyear(int(date[2]))\n",
        "#print(calendar, type(calendar))\n",
        "week_day = calendar.weekday(int(date[2]), int(date[0]), int(date[1]))\n",
        "print(str(calendar.day_name[week_day]).upper())\n"
      ],
      "metadata": {
        "id": "NCQjH8BeWZbR"
      },
      "execution_count": null,
      "outputs": []
    },
    {
      "cell_type": "markdown",
      "source": [
        "6.2. Time Delta"
      ],
      "metadata": {
        "id": "6nTjR2-NWVmK"
      }
    },
    {
      "cell_type": "code",
      "source": [
        "#!/bin/python3\n",
        "#I completed the code with the help of the solution since I don't understand the format and type of the input and I don't know how to manipulate it.\n",
        "import math\n",
        "import os\n",
        "import random\n",
        "import re\n",
        "import sys\n",
        "\n",
        "from datetime import datetime\n",
        "# Complete the time_delta function below.\n",
        "def time_delta(t1, t2):\n",
        "    f= '%a %d %b %Y %H:%M:%S %z'\n",
        "    d1 = datetime.strptime(t1, f) \n",
        "    d2 = datetime.strptime(t2, f) \n",
        "    diff = (d2-d1).total_seconds()  \n",
        "    delta = str(abs(int(diff)))\n",
        "    return delta\n",
        "if __name__ == '__main__':\n",
        "    fptr = open(os.environ['OUTPUT_PATH'], 'w')\n",
        "\n",
        "    t = int(input())\n",
        "\n",
        "    for t_itr in range(t):\n",
        "        t1 = input()\n",
        "\n",
        "        t2 = input()\n",
        "\n",
        "        delta = time_delta(t1, t2)\n",
        "\n",
        "        fptr.write(delta + '\\n')\n",
        "\n",
        "    fptr.close()\n"
      ],
      "metadata": {
        "id": "wQxMu8wJWfVD"
      },
      "execution_count": null,
      "outputs": []
    },
    {
      "cell_type": "markdown",
      "source": [
        "# 7) Exceptions"
      ],
      "metadata": {
        "id": "-KZ0PC9FWsX9"
      }
    },
    {
      "cell_type": "markdown",
      "source": [
        "7.1. Exceptions"
      ],
      "metadata": {
        "id": "tw3CWilDW4vq"
      }
    },
    {
      "cell_type": "code",
      "source": [
        "# Enter your code here. Read input from STDIN. Print output to STDOUT\n",
        "\n",
        "T = int(input())\n",
        "for i in range(T):\n",
        "    a,b  = input().split()\n",
        "     #print(a, type(a))\n",
        "    \n",
        "    try:\n",
        "       print(round(int(a)/int(b)))\n",
        "    except ZeroDivisionError as e:\n",
        "        print(\"Error Code:\", 'integer division or modulo by zero')\n",
        "    except ValueError as v:\n",
        "        print(\"Error Code:\", v)\n"
      ],
      "metadata": {
        "id": "dNDCkMd0W_0e"
      },
      "execution_count": null,
      "outputs": []
    },
    {
      "cell_type": "markdown",
      "source": [
        "# 8) Built-ins"
      ],
      "metadata": {
        "id": "MvS7aaybXH3f"
      }
    },
    {
      "cell_type": "markdown",
      "source": [
        "8.1. Zipped!"
      ],
      "metadata": {
        "id": "3wtXaNSEXgXT"
      }
    },
    {
      "cell_type": "code",
      "source": [
        "# Enter your code here. Read input from STDIN. Print output to STDOUT\n",
        "N, X = input().split()\n",
        "N = int(N)\n",
        "X = int(X)\n",
        "subjects = []\n",
        "marks_subjects = []\n",
        "students = []\n",
        "for i in range(X):\n",
        "    s_marks = input().split()\n",
        "    l_marks = list(s_marks)\n",
        "    l_marks = list(map(float, l_marks))\n",
        "     \n",
        "    marks_subjects.append(l_marks)\n",
        "    \n",
        "marks_students = list(zip(*marks_subjects))\n",
        "\n",
        "for i in range(N):\n",
        "    print(sum(marks_students[i])/X)\n"
      ],
      "metadata": {
        "id": "6ncejN_rXxk6"
      },
      "execution_count": null,
      "outputs": []
    },
    {
      "cell_type": "markdown",
      "source": [
        "8.2. Athlete Sort"
      ],
      "metadata": {
        "id": "ii7xdWIhXnBV"
      }
    },
    {
      "cell_type": "code",
      "source": [
        "#!/bin/python3\n",
        "\n",
        "import math\n",
        "import os\n",
        "import random\n",
        "import re\n",
        "import sys\n",
        "\n",
        "\n",
        "\n",
        "if __name__ == '__main__':\n",
        "    nm = input().split()\n",
        "\n",
        "    n = int(nm[0])\n",
        "\n",
        "    m = int(nm[1])\n",
        "\n",
        "    arr = []\n",
        "\n",
        "    for _ in range(n):\n",
        "        arr.append(list(map(int, input().rstrip().split())))\n",
        "\n",
        "    k = int(input())\n",
        "    \n",
        "   \n",
        "    arr = sorted(arr, key = lambda x: x[k])\n",
        "        \n",
        "\n",
        "    \n",
        "for i in range(n):\n",
        "    line = \" \".join(map(str, arr[i]))\n",
        "    print(line)\n"
      ],
      "metadata": {
        "id": "3fMAqnEmX2aP"
      },
      "execution_count": null,
      "outputs": []
    },
    {
      "cell_type": "markdown",
      "source": [
        "8.3. ginortS"
      ],
      "metadata": {
        "id": "w2rwP5IRXqcz"
      }
    },
    {
      "cell_type": "code",
      "source": [
        "# Enter your code here. Read input from STDIN. Print output to STDOUT\n",
        "s = input()\n",
        "l = list(s)\n",
        "#l.sort()\n",
        "l_digit = []\n",
        "l_letters = []\n",
        "#ordered_string = \" \"\n",
        "for i in range(len(l)):\n",
        "    if l[i].isdigit() == False:\n",
        "        l_letters.append(l[i]) \n",
        "    else: \n",
        "        \n",
        "        l_digit.append(int(l[i]))\n",
        "\n",
        "l_digit.sort(key = lambda l:(l % 2 == 0, l != 0, l))\n",
        "\n",
        "l_letters.sort(key = lambda l: (l.isupper(), ord(l)))\n",
        "l_sorted = l_letters + l_digit\n",
        "\n",
        "\n",
        "ordered_string = ''.join(str(i) for i in l_sorted)\n",
        "print(ordered_string)"
      ],
      "metadata": {
        "id": "lX6h2rpuX7jw"
      },
      "execution_count": null,
      "outputs": []
    },
    {
      "cell_type": "markdown",
      "source": [
        "# 10) Python functionals"
      ],
      "metadata": {
        "id": "-KVTc7uxYBqs"
      }
    },
    {
      "cell_type": "markdown",
      "source": [
        "Map and Lambda function"
      ],
      "metadata": {
        "id": "-5W_X68uYKX_"
      }
    },
    {
      "cell_type": "code",
      "source": [
        "cube = lambda x: x**3\n",
        "\n",
        "def fibonacci(n):\n",
        "    # return a list of fibonacci numbers\n",
        "    fibonacci = [0, 1]\n",
        "    for i in range(2, n+2):\n",
        "        fibonacci.append(fibonacci[i-1] + fibonacci[i-2])\n",
        "    \n",
        "    n_fibonacci = fibonacci[:-2]   \n",
        "    return n_fibonacci\n",
        "\n",
        "    \n",
        "    \n"
      ],
      "metadata": {
        "id": "MMOo0BihYdx-"
      },
      "execution_count": null,
      "outputs": []
    },
    {
      "cell_type": "markdown",
      "source": [
        "# 11) Regex and Parsing challenges"
      ],
      "metadata": {
        "id": "QWfesljUYlA0"
      }
    },
    {
      "cell_type": "markdown",
      "source": [
        "11.1. Detect Floating Point number"
      ],
      "metadata": {
        "id": "9YvE50vN93VQ"
      }
    },
    {
      "cell_type": "code",
      "source": [
        "# Enter your code here. Read input from STDIN. Print output to STDOUT\n",
        "import re\n",
        "\n",
        "T = int(input())\n",
        "\n",
        "for i in range(T):\n",
        "    number = input()\n",
        "    if re.fullmatch('([+-]?([0-9]*[.])?[0-9]+)',number):\n",
        "        print('True')\n",
        "    elif number == '0':\n",
        "        print('False')\n",
        "    else: print('False')\n",
        "\n",
        "\n"
      ],
      "metadata": {
        "id": "FRrnuCli99H6"
      },
      "execution_count": null,
      "outputs": []
    },
    {
      "cell_type": "markdown",
      "source": [
        "11.2. Re.split()"
      ],
      "metadata": {
        "id": "uqrUIEr0AJ-t"
      }
    },
    {
      "cell_type": "code",
      "source": [
        "regex_pattern = r\"[./,]\"\t# Do not delete 'r'.\n",
        "\n",
        "import re\n",
        "print(\"\\n\".join(re.split(regex_pattern, input())))"
      ],
      "metadata": {
        "id": "taJeperVAN8r"
      },
      "execution_count": null,
      "outputs": []
    },
    {
      "cell_type": "markdown",
      "source": [
        "11.3. Group(), Groups()"
      ],
      "metadata": {
        "id": "EAzVa9XRQdVe"
      }
    },
    {
      "cell_type": "code",
      "source": [
        "# Enter your code here. Read input from STDIN. Print output to STDOUT\n",
        "import re\n",
        "\n",
        "string = input()\n",
        "\n",
        "m = re.search(r'([a-zA-Z0-9])\\1+', string)\n",
        "\n",
        "if m: \n",
        "     print(m.groups()[0])\n",
        "else:\n",
        "    print(-1)\n"
      ],
      "metadata": {
        "colab": {
          "base_uri": "https://localhost:8080/"
        },
        "id": "ntliM_YwQc-F",
        "outputId": "6e4f4402-d879-429b-b217-8811ecd1b86d"
      },
      "execution_count": null,
      "outputs": [
        {
          "output_type": "stream",
          "name": "stdout",
          "text": [
            "1234567789\n",
            "7\n"
          ]
        }
      ]
    },
    {
      "cell_type": "markdown",
      "source": [
        "# 12) XML"
      ],
      "metadata": {
        "id": "DyLF9a-JYvyb"
      }
    },
    {
      "cell_type": "markdown",
      "source": [
        "1.1. XML 1"
      ],
      "metadata": {
        "id": "rc8uuCCIBd1A"
      }
    },
    {
      "cell_type": "code",
      "source": [
        "import sys\n",
        "import xml.etree.ElementTree as etree\n",
        "\n",
        "def get_attr_number(node):\n",
        "    # your code goes here\n",
        "    summa = 0\n",
        "    for child in node.iter():\n",
        "       \n",
        "        if len(child.attrib) != 0:\n",
        "            summa += len(child.keys())\n",
        "    return summa      \n",
        "if __name__ == '__main__':\n",
        "    sys.stdin.readline()\n",
        "    xml = sys.stdin.read()\n",
        "    tree = etree.ElementTree(etree.fromstring(xml))\n",
        "    root = tree.getroot()\n",
        "    print(get_attr_number(root))"
      ],
      "metadata": {
        "id": "rJo-Ebrd9_i7"
      },
      "execution_count": null,
      "outputs": []
    },
    {
      "cell_type": "markdown",
      "source": [
        "# 13) Closures and Decorations"
      ],
      "metadata": {
        "id": "9KVhWwukY36S"
      }
    },
    {
      "cell_type": "markdown",
      "source": [
        "# 14) Numpy"
      ],
      "metadata": {
        "id": "iDGl0DPvZWx_"
      }
    },
    {
      "cell_type": "markdown",
      "source": [
        "14.1. Arrays"
      ],
      "metadata": {
        "id": "4YBrrnJdZavR"
      }
    },
    {
      "cell_type": "code",
      "source": [
        "def arrays(arr):\n",
        "    # complete this function\n",
        "    # use numpy.array\n",
        "    arr.reverse()\n",
        "    \n",
        "    n_array = numpy.array(arr,float)\n",
        "    \n",
        "    return n_array"
      ],
      "metadata": {
        "id": "Tp_lsglUZjLu"
      },
      "execution_count": null,
      "outputs": []
    },
    {
      "cell_type": "markdown",
      "source": [
        "14.2. Shape and Reshape"
      ],
      "metadata": {
        "id": "2ZnKhzj9ZmmF"
      }
    },
    {
      "cell_type": "code",
      "source": [
        "import numpy as np\n",
        "\n",
        "integers = list(map(int, input().split()))\n",
        "first_array = np.array(integers)\n",
        "second_array = np.reshape(first_array, (3,3))\n",
        "print(second_array)"
      ],
      "metadata": {
        "id": "0NRe9M80bmFp"
      },
      "execution_count": null,
      "outputs": []
    },
    {
      "cell_type": "markdown",
      "source": [
        "14.3. Transpose and Flatten"
      ],
      "metadata": {
        "id": "sH33j_TKZsuY"
      }
    },
    {
      "cell_type": "code",
      "source": [
        "import numpy as np\n",
        "\n",
        "n, m = map(int,input().split())\n",
        "list_rows = []\n",
        "for i in range(n):\n",
        "    rows  = list(map(int, input().split()))\n",
        "    \n",
        "    list_rows.append(rows)\n",
        "\n",
        "\n",
        "np_array = np.array(list_rows)\n",
        "print(np.transpose(np_array))\n",
        "print(np_array.flatten())\n"
      ],
      "metadata": {
        "id": "hQbqUa7qbroM"
      },
      "execution_count": null,
      "outputs": []
    },
    {
      "cell_type": "markdown",
      "source": [
        "14.4. Concatenate"
      ],
      "metadata": {
        "id": "PgQ34_23Zx7n"
      }
    },
    {
      "cell_type": "code",
      "source": [
        "import numpy as np \n",
        "m, n, p = list(map(int, input().split()))\n",
        "nxp = []\n",
        "mxp = []\n",
        "for i in range(n):\n",
        "    nxp_columns =list(map(int, input().split())) \n",
        "    nxp.append(nxp_columns)\n",
        "\n",
        "\n",
        "for i in range(m):\n",
        "    mxp_columns = list(map(int, input().split())) \n",
        "    mxp.append(mxp_columns)\n",
        "\n",
        "array_nxp = np.array(nxp)\n",
        "array_mxp = np.array(mxp)\n",
        "print(np.concatenate((array_nxp, array_mxp), axis = 0))\n"
      ],
      "metadata": {
        "id": "6Akzpxr6bvfF"
      },
      "execution_count": null,
      "outputs": []
    },
    {
      "cell_type": "markdown",
      "source": [
        "14.5. Zeros and Ones"
      ],
      "metadata": {
        "id": "9tJ5r03tZ22K"
      }
    },
    {
      "cell_type": "code",
      "source": [
        "import numpy as np\n",
        "\n",
        "shape = list(map(int, input().split()))\n",
        "\n",
        "print(np.zeros(shape, int))\n",
        "print(np.ones(shape, int))"
      ],
      "metadata": {
        "id": "HnEmyTlwb-UW"
      },
      "execution_count": null,
      "outputs": []
    },
    {
      "cell_type": "markdown",
      "source": [
        "14.6. Eye and Identity"
      ],
      "metadata": {
        "id": "yA02O0_pZ6TI"
      }
    },
    {
      "cell_type": "code",
      "source": [
        "import numpy as np \n",
        "n,m = list(map(int,input().split()))\n",
        "np.set_printoptions(legacy='1.13')\n",
        "print(np.eye(n,m))"
      ],
      "metadata": {
        "id": "vus59cuWcIYG"
      },
      "execution_count": null,
      "outputs": []
    },
    {
      "cell_type": "markdown",
      "source": [
        "14.7. Array Mathematics"
      ],
      "metadata": {
        "id": "cPbrKlySaKUK"
      }
    },
    {
      "cell_type": "code",
      "source": [
        "import numpy as np\n",
        "\n",
        "n,m = list(map(int,input().split()))\n",
        "A_list = []\n",
        "B_list = []\n",
        "for i in range(n):\n",
        "    lista = list(map(int, input().split()))\n",
        "    A_list.append(lista)\n",
        "\n",
        "for i in range(n):\n",
        "    lista = list(map(int, input().split()))\n",
        "    B_list.append(lista)\n",
        "A = np.array(A_list)\n",
        "B = np.array(B_list)\n",
        "\n",
        "print(A+B)\n",
        "print(A-B)\n",
        "print(A*B)\n",
        "print(np.floor_divide(A,B))\n",
        "print(A%B)\n",
        "print(A**B)"
      ],
      "metadata": {
        "id": "ubGtSkHycLyo"
      },
      "execution_count": null,
      "outputs": []
    },
    {
      "cell_type": "markdown",
      "source": [
        "14.8. Floor, Ceil and Rint"
      ],
      "metadata": {
        "id": "5I1xqibVaPuj"
      }
    },
    {
      "cell_type": "code",
      "source": [
        "import numpy as np \n",
        "\n",
        "lista = list(map(float, input().split()))\n",
        "np.set_printoptions(legacy='1.13')\n",
        "array = np.array(lista)\n",
        "\n",
        "print(np.floor(array))\n",
        "print(np.ceil(array))\n",
        "print(np.rint(array))"
      ],
      "metadata": {
        "id": "-PSvSM1Acl0P"
      },
      "execution_count": null,
      "outputs": []
    },
    {
      "cell_type": "markdown",
      "source": [
        "14.9. Sum and Prod"
      ],
      "metadata": {
        "id": "Dj4sBJS4aXkd"
      }
    },
    {
      "cell_type": "code",
      "source": [
        "import numpy as np \n",
        "n, m = list(map(int, input().split()))\n",
        "\n",
        "lista = []\n",
        "for i in range(n):\n",
        "    lista.append(list(map(int, input().split())))\n",
        "\n",
        "    array = np.array(lista)\n",
        "summa = np.sum(array, axis = 0)\n",
        "print(np.prod(summa))"
      ],
      "metadata": {
        "id": "EUNWLMtvco7w"
      },
      "execution_count": null,
      "outputs": []
    },
    {
      "cell_type": "markdown",
      "source": [
        "14.10. Min and Max"
      ],
      "metadata": {
        "id": "xTyDAQKDacRf"
      }
    },
    {
      "cell_type": "code",
      "source": [
        "import numpy as np\n",
        "\n",
        "n , m = list(map(int, input().split()))\n",
        "lista = []\n",
        "for i in range(n):\n",
        "    lista.append(list(map(int, input().split())))\n",
        "\n",
        "array = np.array(lista)\n",
        "minimum = np.min(array, axis = 1)\n",
        "print(np.max(minimum))"
      ],
      "metadata": {
        "id": "qxAmuqIzc0or"
      },
      "execution_count": null,
      "outputs": []
    },
    {
      "cell_type": "markdown",
      "source": [
        "14.11. Mean, Var and Std"
      ],
      "metadata": {
        "id": "5LEfnt2qafJx"
      }
    },
    {
      "cell_type": "code",
      "source": [
        "import numpy as np \n",
        "n, m = list(map(int, input().split()))\n",
        "lista = []\n",
        "for i in range(n):\n",
        "    lista.append(list(map(int, input().split())))\n",
        "array = np.array(lista)\n",
        "print(np.mean(array, axis = 1))\n",
        "print(np.var(array, axis = 0))\n",
        "print(round(np.std(array), 11))"
      ],
      "metadata": {
        "id": "X8qjxL9Qc8U_"
      },
      "execution_count": null,
      "outputs": []
    },
    {
      "cell_type": "markdown",
      "source": [
        "14.12. Dot and Cross"
      ],
      "metadata": {
        "id": "Vu55GS9_ajhJ"
      }
    },
    {
      "cell_type": "code",
      "source": [
        "import numpy as np \n",
        "\n",
        "N = int(input())\n",
        "lista_A = []\n",
        "lista_B = []\n",
        "for i in range(N):\n",
        "    lista_A.append(list(map(int, input().split())))\n",
        "for i in range(N):\n",
        "    lista_B.append(list(map(int, input().split())))\n",
        "\n",
        "array_A = np.array(lista_A)\n",
        "array_B = np.array(lista_B)\n",
        "\n",
        "\n",
        "print(np.dot(array_A, array_B))"
      ],
      "metadata": {
        "id": "2m5nqZ6idFgq"
      },
      "execution_count": null,
      "outputs": []
    },
    {
      "cell_type": "markdown",
      "source": [
        "14.13. Inner and Outer"
      ],
      "metadata": {
        "id": "3snyucyXaqn5"
      }
    },
    {
      "cell_type": "code",
      "source": [
        "import numpy as np\n",
        "\n",
        "list_A = list(input().split())\n",
        "list_B = list(input().split())\n",
        "\n",
        "array_A = np.array(list_A, int)\n",
        "array_B = np.array(list_B, int)\n",
        "\n",
        "print(np.inner(array_A, array_B))\n",
        "print(np.outer(array_A, array_B))"
      ],
      "metadata": {
        "id": "N8Dl4qybdG7P"
      },
      "execution_count": null,
      "outputs": []
    },
    {
      "cell_type": "markdown",
      "source": [
        "14.14. Polynomials"
      ],
      "metadata": {
        "id": "rSopMuYuauGl"
      }
    },
    {
      "cell_type": "code",
      "source": [
        "import numpy as np\n",
        "\n",
        "poly = list(input().split())\n",
        "array_poly = np.array(poly, float)\n",
        "\n",
        "x = int(input())\n",
        "\n",
        "print(np.polyval(array_poly, x))"
      ],
      "metadata": {
        "id": "xiSpB9NpdN4l"
      },
      "execution_count": null,
      "outputs": []
    },
    {
      "cell_type": "markdown",
      "source": [
        "14.15. Linear Algebra"
      ],
      "metadata": {
        "id": "s8x-9p1lax-L"
      }
    },
    {
      "cell_type": "code",
      "source": [
        "import numpy as np\n",
        "\n",
        "N = int(input())\n",
        "lista = []\n",
        "for i in range(N):\n",
        "    lista.append(list(input().split()))\n",
        "\n",
        "array = np.array(lista, float)\n",
        "print(round(np.linalg.det(array), 2))"
      ],
      "metadata": {
        "id": "aazvSvy3dYIN"
      },
      "execution_count": null,
      "outputs": []
    }
  ]
}